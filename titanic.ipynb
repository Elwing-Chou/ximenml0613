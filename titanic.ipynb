{
  "nbformat": 4,
  "nbformat_minor": 0,
  "metadata": {
    "colab": {
      "name": "titanic.ipynb",
      "provenance": []
    },
    "kernelspec": {
      "name": "python3",
      "display_name": "Python 3"
    }
  },
  "cells": [
    {
      "cell_type": "code",
      "metadata": {
        "id": "yivtLTCAh7i0",
        "colab_type": "code",
        "colab": {}
      },
      "source": [
        "from urllib.request import urlretrieve\n",
        "url = \"https://github.com/Elwing-Chou/ximenml0613/raw/master/train.csv\"\n",
        "urlretrieve(url, \"train.csv\")\n",
        "url = \"https://github.com/Elwing-Chou/ximenml0613/raw/master/test.csv\"\n",
        "urlretrieve(url, \"test.csv\")"
      ],
      "execution_count": null,
      "outputs": []
    },
    {
      "cell_type": "code",
      "metadata": {
        "id": "aTBBWtcEiYP7",
        "colab_type": "code",
        "colab": {}
      },
      "source": [
        "import pandas as pd\n",
        "train_df = pd.read_csv(\"train.csv\", encoding=\"utf-8\")\n",
        "test_df = pd.read_csv(\"test.csv\", encoding=\"utf-8\")"
      ],
      "execution_count": 2,
      "outputs": []
    },
    {
      "cell_type": "code",
      "metadata": {
        "id": "Gbs0ZEiyo5UD",
        "colab_type": "code",
        "colab": {}
      },
      "source": [
        "train_df.isna().sum()"
      ],
      "execution_count": null,
      "outputs": []
    },
    {
      "cell_type": "code",
      "metadata": {
        "id": "GQPKQ5QFpfaE",
        "colab_type": "code",
        "colab": {}
      },
      "source": [
        "test_df.isna().sum()"
      ],
      "execution_count": null,
      "outputs": []
    },
    {
      "cell_type": "code",
      "metadata": {
        "id": "QfFbnOVApoTX",
        "colab_type": "code",
        "colab": {}
      },
      "source": [
        "# 1.補中位數 2. Pclass(no 中位數) 3. test不重算\n",
        "med = train_df.median().drop([\"Pclass\"])\n",
        "train_df = train_df.fillna(med)\n",
        "test_df = test_df.fillna(med)"
      ],
      "execution_count": 11,
      "outputs": []
    },
    {
      "cell_type": "code",
      "metadata": {
        "id": "D5c4DSRmrnpA",
        "colab_type": "code",
        "colab": {}
      },
      "source": [
        "# 2. 捕最常出現 2. Pclass(yes 最常出現)\n",
        "most = train_df[\"Embarked\"].value_counts().idxmax()\n",
        "train_df[\"Embarked\"] = train_df[\"Embarked\"].fillna(most)"
      ],
      "execution_count": 14,
      "outputs": []
    }
  ]
}